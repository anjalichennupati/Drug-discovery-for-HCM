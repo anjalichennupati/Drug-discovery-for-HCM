{
  "cells": [
    {
      "cell_type": "code",
      "execution_count": null,
      "metadata": {
        "id": "nqRNyeRpRy8O"
      },
      "outputs": [],
      "source": [
        "import pandas as pd\n",
        "import numpy as np"
      ]
    },
    {
      "cell_type": "code",
      "execution_count": null,
      "metadata": {
        "colab": {
          "base_uri": "https://localhost:8080/"
        },
        "id": "KScaP372CkBl",
        "outputId": "94bf8734-4a6f-4269-e36e-44b930e70b4a"
      },
      "outputs": [],
      "source": [
        "# # Importing the chembl_database\n",
        "! pip install chembl_webresource_client\n",
        "\n",
        "# !pip install requests-cache==1.1.1\n",
        "# !pip install chembl-webresource-client==0.10.8\n"
      ]
    },
    {
      "cell_type": "code",
      "execution_count": null,
      "metadata": {
        "id": "2uILb0m85bgG"
      },
      "outputs": [],
      "source": [
        "# Import necessary libraries\n",
        "import pandas as pd\n",
        "from chembl_webresource_client.new_client import new_client"
      ]
    },
    {
      "cell_type": "code",
      "execution_count": null,
      "metadata": {
        "colab": {
          "base_uri": "https://localhost:8080/",
          "height": 244
        },
        "id": "iHKAgq-45ep6",
        "outputId": "32142405-f5ec-45ba-b68a-3848e1a5517a"
      },
      "outputs": [],
      "source": [
        "# PART 1\n",
        "\n",
        "# Target search for hcm using tnni3\n",
        "target = new_client.target\n",
        "target_query = target.search('tnni3')\n",
        "targets = pd.DataFrame.from_dict(target_query)\n",
        "targets"
      ]
    },
    {
      "cell_type": "code",
      "execution_count": null,
      "metadata": {
        "colab": {
          "base_uri": "https://localhost:8080/",
          "height": 36
        },
        "id": "OxqXoh4I8cRn",
        "outputId": "46650264-de94-4039-cde9-456ba4bbd677"
      },
      "outputs": [],
      "source": [
        "# Retrieve data for the single protein for humans\n",
        "selected_target = targets.target_chembl_id[2]\n",
        "selected_target"
      ]
    },
    {
      "cell_type": "code",
      "execution_count": null,
      "metadata": {
        "id": "Jk0d9X9M8hhj"
      },
      "outputs": [],
      "source": [
        "activity = new_client.activity\n",
        "res = activity.filter(target_chembl_id=selected_target).filter(standard_type=\"IC50\")"
      ]
    },
    {
      "cell_type": "code",
      "execution_count": null,
      "metadata": {
        "colab": {
          "base_uri": "https://localhost:8080/",
          "height": 428
        },
        "id": "Bo-wQm_J9HB0",
        "outputId": "191bdd27-7474-4096-8f63-45882ad082d4"
      },
      "outputs": [],
      "source": [
        "df = pd.DataFrame.from_dict(res)\n",
        "df.head()"
      ]
    },
    {
      "cell_type": "code",
      "execution_count": null,
      "metadata": {
        "colab": {
          "base_uri": "https://localhost:8080/"
        },
        "id": "B-aUvRnh9rE6",
        "outputId": "e8a9eac7-f8e1-44a5-be37-06dc7e6969f2"
      },
      "outputs": [],
      "source": [
        "# Filtering the ones with unique value of IC50\n",
        "df.standard_type.unique()"
      ]
    },
    {
      "cell_type": "code",
      "execution_count": null,
      "metadata": {
        "id": "tJRs-6rx1N8j"
      },
      "outputs": [],
      "source": [
        "df.to_csv('bioactivity_data.csv', index=False)"
      ]
    },
    {
      "cell_type": "code",
      "execution_count": null,
      "metadata": {
        "colab": {
          "base_uri": "https://localhost:8080/"
        },
        "id": "7RPe3FEd1R0T",
        "outputId": "fc670078-81b7-451d-bf4d-ea4622a11a33"
      },
      "outputs": [],
      "source": [
        "from google.colab import drive\n",
        "drive.mount('/content/drive')"
      ]
    },
    {
      "cell_type": "code",
      "execution_count": null,
      "metadata": {
        "colab": {
          "base_uri": "https://localhost:8080/",
          "height": 825
        },
        "id": "dOs6vY-S15iN",
        "outputId": "c7814fa1-73d0-43d6-eb15-49f141ed2be7"
      },
      "outputs": [],
      "source": [
        "# Dropping any values without the standard type\n",
        "# Dropping rows with null values for standard type\n",
        "\n",
        "df2 = df[df.standard_value.notna()]\n",
        "df2"
      ]
    },
    {
      "cell_type": "code",
      "execution_count": null,
      "metadata": {
        "id": "TnRGXu43-YmS"
      },
      "outputs": [],
      "source": [
        "# PART 2\n",
        "\n",
        "# DATA PRE-PROCESSING\n",
        "\n",
        "# Compounds are segregated based on a certain criteria of IC50 value\n",
        "\n",
        "# Segregation is happening based on standard value\n",
        "\n",
        "# Compounds having values of less than 1000 nM will be considered to be active\n",
        "# those greater than 10,000 nM will be considered to be inactive.\n",
        "# values in between 1,000 and 10,000 nM will be referred to as intermediate.\n",
        "\n",
        "bioactivity_class = []\n",
        "for i in df2.standard_value:\n",
        "  if float(i) >= 10000:\n",
        "    bioactivity_class.append(\"inactive\")\n",
        "  elif float(i) <= 1000:\n",
        "    bioactivity_class.append(\"active\")\n",
        "  else:\n",
        "    bioactivity_class.append(\"intermediate\")"
      ]
    },
    {
      "cell_type": "code",
      "execution_count": null,
      "metadata": {
        "id": "zq6bz9YNlXxh"
      },
      "outputs": [],
      "source": [
        "#Iterate the \"molecule_chembl_id\" to a list\n",
        "mol_cid = []\n",
        "for i in df2.molecule_chembl_id:\n",
        "  mol_cid.append(i)"
      ]
    },
    {
      "cell_type": "code",
      "execution_count": null,
      "metadata": {
        "id": "XmKidkjjot8w"
      },
      "outputs": [],
      "source": [
        "# Iterate \"canonical_smiles\" to a list\n",
        "canonical_smiles = []\n",
        "for i in df2.canonical_smiles:\n",
        "  canonical_smiles.append(i)"
      ]
    },
    {
      "cell_type": "code",
      "execution_count": null,
      "metadata": {
        "id": "wCgzfiMkpsJg"
      },
      "outputs": [],
      "source": [
        "# Iterate standard_value to a list\n",
        "standard_value = []\n",
        "for i in df2.standard_value:\n",
        "  standard_value.append(i)"
      ]
    },
    {
      "cell_type": "code",
      "execution_count": null,
      "metadata": {
        "colab": {
          "base_uri": "https://localhost:8080/",
          "height": 423
        },
        "id": "0mqguoKHpx36",
        "outputId": "a23901a5-d738-4098-bf57-0e853f9747c0"
      },
      "outputs": [],
      "source": [
        "# Combine the 4 lists into a dataframe\n",
        "data_tuples = list(zip(mol_cid, canonical_smiles, bioactivity_class, standard_value))\n",
        "df3 = pd.DataFrame( data_tuples,  columns=['molecule_chembl_id', 'canonical_smiles', 'bioactivity_class', 'standard_value'])\n",
        "df3"
      ]
    },
    {
      "cell_type": "code",
      "execution_count": null,
      "metadata": {
        "id": "ipQ-WmBWrqON"
      },
      "outputs": [],
      "source": [
        "# storing df as a csv file\n",
        "df3.to_csv('bioactivity_data_preprocessed.csv', index=False)"
      ]
    },
    {
      "cell_type": "code",
      "execution_count": null,
      "metadata": {
        "colab": {
          "base_uri": "https://localhost:8080/"
        },
        "id": "NEOPHuWR-bSM",
        "outputId": "f23ee7ad-e957-4201-86a8-230fc2a1d652"
      },
      "outputs": [],
      "source": [
        "!wget https://your_download_link.com/padel.zip\n",
        "!unzip padel.zip -d PaDEL-Descriptor\n"
      ]
    },
    {
      "cell_type": "code",
      "execution_count": null,
      "metadata": {
        "colab": {
          "base_uri": "https://localhost:8080/"
        },
        "id": "eOnVyH_ptEH0",
        "outputId": "35a443e7-6649-4588-b57a-7b7ad79c0c6e"
      },
      "outputs": [],
      "source": [
        "! ls -l"
      ]
    },
    {
      "cell_type": "code",
      "execution_count": null,
      "metadata": {
        "colab": {
          "base_uri": "https://localhost:8080/"
        },
        "id": "3UYhdHzDuUwM",
        "outputId": "53d77676-2cf1-4000-9596-3c9a17691931"
      },
      "outputs": [],
      "source": [
        "! wget https://repo.anaconda.com/miniconda/Miniconda3-py37_4.8.2-Linux-x86_64.sh\n",
        "! chmod +x Miniconda3-py37_4.8.2-Linux-x86_64.sh\n",
        "! bash ./Miniconda3-py37_4.8.2-Linux-x86_64.sh -b -f -p /usr/local\n",
        "! conda install -c rdkit rdkit -y\n",
        "import sys\n",
        "sys.path.append('/usr/local/lib/python3.7/site-packages/')"
      ]
    },
    {
      "cell_type": "code",
      "execution_count": null,
      "metadata": {
        "id": "deS2UVa0vg7B"
      },
      "outputs": [],
      "source": [
        "df = pd.read_csv('bioactivity_data_preprocessed.csv')"
      ]
    },
    {
      "cell_type": "code",
      "execution_count": null,
      "metadata": {
        "colab": {
          "base_uri": "https://localhost:8080/"
        },
        "id": "c9RiqDwDGD0J",
        "outputId": "0661191e-88b3-456f-919c-d0276fd34d2e"
      },
      "outputs": [],
      "source": [
        "!pip install rdkit-pypi\n"
      ]
    },
    {
      "cell_type": "code",
      "execution_count": null,
      "metadata": {
        "colab": {
          "base_uri": "https://localhost:8080/"
        },
        "id": "4dZ0R9ETwLkB",
        "outputId": "f9a0cd80-e7b6-47bb-acd9-0d7599a3f65f"
      },
      "outputs": [],
      "source": [
        "# PART 3\n",
        "\n",
        "# Calculating Lipinski descripters\n",
        "# Describes the drug-likeness of a compound. Based on ADME (Absorptive, Distribution, Metabolism, and Excretion).\n",
        "# The rule stays fixed where properties such as H-bond and molecular weight are to be lesser than a certain value only and such.\n",
        "\n",
        "from rdkit import Chem\n",
        "from rdkit.Chem import Descriptors, Lipinski\n",
        "\n",
        "print(\"RDKit is working!\")\n"
      ]
    },
    {
      "cell_type": "code",
      "execution_count": null,
      "metadata": {
        "id": "FDeexnPowimq"
      },
      "outputs": [],
      "source": [
        "# To calculate the Lipinski descripters\n",
        "def lipinski(smiles, verbose=False):\n",
        "\n",
        "    moldata= []\n",
        "    for elem in smiles:\n",
        "        mol=Chem.MolFromSmiles(elem)\n",
        "        moldata.append(mol)\n",
        "\n",
        "    baseData= np.arange(1,1)\n",
        "    i=0\n",
        "    for mol in moldata:\n",
        "\n",
        "        desc_MolWt = Descriptors.MolWt(mol)\n",
        "        desc_MolLogP = Descriptors.MolLogP(mol)\n",
        "        desc_NumHDonors = Lipinski.NumHDonors(mol)\n",
        "        desc_NumHAcceptors = Lipinski.NumHAcceptors(mol)\n",
        "\n",
        "        row = np.array([desc_MolWt,\n",
        "                        desc_MolLogP,\n",
        "                        desc_NumHDonors,\n",
        "                        desc_NumHAcceptors])\n",
        "\n",
        "        if(i==0):\n",
        "            baseData=row\n",
        "        else:\n",
        "            baseData=np.vstack([baseData, row])\n",
        "        i=i+1\n",
        "\n",
        "    columnNames=[\"MW\",\"LogP\",\"NumHDonors\",\"NumHAcceptors\"]\n",
        "    descriptors = pd.DataFrame(data=baseData,columns=columnNames)\n",
        "\n",
        "    return descriptors"
      ]
    },
    {
      "cell_type": "code",
      "execution_count": null,
      "metadata": {
        "colab": {
          "base_uri": "https://localhost:8080/",
          "height": 423
        },
        "id": "4AWgm-FexGDk",
        "outputId": "e5e14ea6-ebf5-4021-f58a-9d7a3d186282"
      },
      "outputs": [],
      "source": [
        "# Provides exact atomic details\n",
        "df_lipinski = lipinski(df.canonical_smiles)\n",
        "\n",
        "# Further details as per the Lipinski parameters\n",
        "df_lipinski"
      ]
    },
    {
      "cell_type": "code",
      "execution_count": null,
      "metadata": {
        "colab": {
          "base_uri": "https://localhost:8080/",
          "height": 582
        },
        "id": "2RK4F1qGJDtW",
        "outputId": "f857d025-2d5d-4678-86b1-c4adf4f74b7e"
      },
      "outputs": [],
      "source": [
        "# The lipinski values and the original dataframe are combined to an all in one\n",
        "df_combined = pd.concat([df,df_lipinski], axis=1)\n",
        "df_combined.to_csv('df_combined.csv')\n",
        "df_combined"
      ]
    },
    {
      "cell_type": "code",
      "execution_count": null,
      "metadata": {
        "id": "ANGQKGurNAct"
      },
      "outputs": [],
      "source": [
        "# Convert ic50 to pic50\n",
        "# pic50 is bsaically -log10 of ic50\n",
        "\n",
        "\n",
        "def pIC50(input):\n",
        "    pIC50 = []\n",
        "\n",
        "    for i in input['standard_value']:\n",
        "        molar = i * (10**-9)  # Converts nM to M\n",
        "        pIC50.append(-np.log10(molar))\n",
        "\n",
        "    input['pIC50'] = pIC50\n",
        "\n",
        "    # ✅ Fix: Use `axis=1` explicitly\n",
        "    x = input.drop('standard_value', axis=1)\n",
        "\n",
        "    return x\n"
      ]
    },
    {
      "cell_type": "code",
      "execution_count": null,
      "metadata": {
        "colab": {
          "base_uri": "https://localhost:8080/",
          "height": 582
        },
        "id": "mwwFcug7N30m",
        "outputId": "8fdd54b4-5a57-4283-bafb-dd8853f00fc8"
      },
      "outputs": [],
      "source": [
        "# pic50 is performed on standard value in df_combined\n",
        "df_final = pIC50(df_combined)\n",
        "df_final"
      ]
    },
    {
      "cell_type": "code",
      "execution_count": null,
      "metadata": {
        "id": "aUwReN_yL4Gw"
      },
      "outputs": [],
      "source": [
        "# PART 4\n",
        "\n",
        "# Chemical space analysis w lipinski descriptors\n",
        "import seaborn as sns\n",
        "sns.set(style='ticks')\n",
        "import matplotlib.pyplot as plt"
      ]
    },
    {
      "cell_type": "code",
      "execution_count": null,
      "metadata": {
        "colab": {
          "base_uri": "https://localhost:8080/",
          "height": 513
        },
        "id": "HCdWQ0h3MNiG",
        "outputId": "7783ad75-4eba-41a8-8191-7e13bb1d4605"
      },
      "outputs": [],
      "source": [
        "# Frequency plot of the combined data\n",
        "plt.figure(figsize=(5.5, 5.5))\n",
        "\n",
        "sns.countplot(x='bioactivity_class', data=df_combined, edgecolor='black')\n",
        "\n",
        "plt.xlabel('Bioactivity class', fontsize=14, fontweight='bold')\n",
        "plt.ylabel('Frequency', fontsize=14, fontweight='bold')\n",
        "\n",
        "plt.savefig('plot_bioactivity_class.pdf')"
      ]
    },
    {
      "cell_type": "code",
      "execution_count": null,
      "metadata": {
        "colab": {
          "base_uri": "https://localhost:8080/",
          "height": 513
        },
        "id": "lJvKKmIuMuMx",
        "outputId": "da0609ca-3f98-4883-e9a5-cf01414bea2d"
      },
      "outputs": [],
      "source": [
        "# Box plot for all the three variants wrt to their type and their respective standard values\n",
        "plt.figure(figsize=(5.5, 5.5))\n",
        "\n",
        "sns.boxplot(x = 'bioactivity_class', y = 'standard_value', data = df_combined)\n",
        "\n",
        "plt.xlabel('Bioactivity class', fontsize=14, fontweight='bold')\n",
        "plt.ylabel('IC50 value', fontsize=14, fontweight='bold')\n",
        "\n",
        "plt.savefig('plot_ic50.pdf')"
      ]
    },
    {
      "cell_type": "code",
      "execution_count": null,
      "metadata": {
        "colab": {
          "base_uri": "https://localhost:8080/",
          "height": 513
        },
        "id": "-zxgbCiaN2gs",
        "outputId": "e535f484-9e17-40b2-d147-424186bd8e65"
      },
      "outputs": [],
      "source": [
        "# Box plots for the other 4 Lipinski descripters\n",
        "\n",
        "# M W\n",
        "\n",
        "plt.figure(figsize=(5.5, 5.5))\n",
        "\n",
        "sns.boxplot(x = 'bioactivity_class', y = 'MW', data = df_combined)\n",
        "\n",
        "plt.xlabel('Bioactivity class', fontsize=14, fontweight='bold')\n",
        "plt.ylabel('MW', fontsize=14, fontweight='bold')\n",
        "\n",
        "plt.savefig('plot_MW.pdf')"
      ]
    },
    {
      "cell_type": "code",
      "execution_count": null,
      "metadata": {
        "colab": {
          "base_uri": "https://localhost:8080/",
          "height": 513
        },
        "id": "PYQOaLVUOcDR",
        "outputId": "407eaaf4-042f-440b-f8d1-ac70650c5ced"
      },
      "outputs": [],
      "source": [
        "# Log P\n",
        "plt.figure(figsize=(5.5, 5.5))\n",
        "\n",
        "sns.boxplot(x = 'bioactivity_class', y = 'LogP', data = df_combined)\n",
        "\n",
        "plt.xlabel('Bioactivity class', fontsize=14, fontweight='bold')\n",
        "plt.ylabel('LogP', fontsize=14, fontweight='bold')\n",
        "\n",
        "plt.savefig('plot_LogP.pdf')"
      ]
    },
    {
      "cell_type": "code",
      "execution_count": null,
      "metadata": {
        "colab": {
          "base_uri": "https://localhost:8080/",
          "height": 513
        },
        "id": "izEuGtYfOkyG",
        "outputId": "1d9af24e-5239-4a04-ff63-ed0fbe94c968"
      },
      "outputs": [],
      "source": [
        "# NumHDonors\n",
        "plt.figure(figsize=(5.5, 5.5))\n",
        "\n",
        "sns.boxplot(x = 'bioactivity_class', y = 'NumHDonors', data = df_combined)\n",
        "\n",
        "plt.xlabel('Bioactivity class', fontsize=14, fontweight='bold')\n",
        "plt.ylabel('NumHDonors', fontsize=14, fontweight='bold')\n",
        "\n",
        "plt.savefig('plot_NumHDonors.pdf')"
      ]
    },
    {
      "cell_type": "code",
      "execution_count": null,
      "metadata": {
        "colab": {
          "base_uri": "https://localhost:8080/",
          "height": 513
        },
        "id": "cYp10g5jO7kM",
        "outputId": "041f305f-ffb2-4d3c-ded7-53ab624ae5e7"
      },
      "outputs": [],
      "source": [
        "# NumHAcceptors\n",
        "plt.figure(figsize=(5.5, 5.5))\n",
        "\n",
        "sns.boxplot(x = 'bioactivity_class', y = 'NumHAcceptors', data = df_combined)\n",
        "\n",
        "plt.xlabel('Bioactivity class', fontsize=14, fontweight='bold')\n",
        "plt.ylabel('NumHAcceptors', fontsize=14, fontweight='bold')\n",
        "\n",
        "plt.savefig('plot_NumHAcceptors.pdf')"
      ]
    },
    {
      "cell_type": "code",
      "execution_count": null,
      "metadata": {
        "colab": {
          "base_uri": "https://localhost:8080/"
        },
        "id": "xqYnP-wNPHI4",
        "outputId": "87c6838b-1d84-4bfb-b2c2-80a04785c2b5"
      },
      "outputs": [],
      "source": [
        "! zip -r results.zip . -i *.csv *.pdf"
      ]
    },
    {
      "cell_type": "code",
      "execution_count": null,
      "metadata": {
        "colab": {
          "base_uri": "https://localhost:8080/"
        },
        "id": "kyqgXFKpPk7-",
        "outputId": "bb1a7d8d-12a4-4dbb-f920-d27fc220c99d"
      },
      "outputs": [],
      "source": [
        "# PART 5\n",
        "# lipinski descriptors provide very simple molecular descriptor overview of the drug like properties\n",
        "# padel will be used to calculate molecular descriptors\n",
        "\n",
        "!wget /content/drive/MyDrive/padel.zip"
      ]
    },
    {
      "cell_type": "code",
      "execution_count": null,
      "metadata": {
        "colab": {
          "base_uri": "https://localhost:8080/"
        },
        "id": "QB0Krg5QREe4",
        "outputId": "e2bd14d4-781b-4bbe-8f42-8437d2aff0b0"
      },
      "outputs": [],
      "source": [
        "! unzip padel.zip"
      ]
    },
    {
      "cell_type": "code",
      "execution_count": null,
      "metadata": {
        "id": "5ROOu5BgRF7G"
      },
      "outputs": [],
      "source": [
        "# The same file as that of df_combined\n",
        "df4=pd.read_csv('df_combined.csv')"
      ]
    },
    {
      "cell_type": "code",
      "execution_count": null,
      "metadata": {
        "id": "ZPbg7v4BS33H"
      },
      "outputs": [],
      "source": [
        "# canonical_smiles and molecule_chembl_id is filtered and placed into a new variable\n",
        "selection = ['canonical_smiles','molecule_chembl_id']\n",
        "df3_selection = df4[selection]\n",
        "df3_selection.to_csv('molecule.smi', sep='\\t', index=False, header=False)"
      ]
    },
    {
      "cell_type": "code",
      "execution_count": null,
      "metadata": {
        "colab": {
          "base_uri": "https://localhost:8080/"
        },
        "id": "OqTwCwGmTHLZ",
        "outputId": "4ddcc198-6134-4063-ba8a-b749ab6a0c27"
      },
      "outputs": [],
      "source": [
        "# It contains the smiles notation and the particular molecule\n",
        "# Smiles notation represents the chemical structure\n",
        "\n",
        "! cat molecule.smi | head -5"
      ]
    },
    {
      "cell_type": "code",
      "execution_count": null,
      "metadata": {
        "colab": {
          "base_uri": "https://localhost:8080/"
        },
        "id": "pHrfX-cR3iMU",
        "outputId": "6a9a0283-bc2b-4299-97e5-64d4659ee5b6"
      },
      "outputs": [],
      "source": [
        "!ls"
      ]
    },
    {
      "cell_type": "code",
      "execution_count": null,
      "metadata": {
        "colab": {
          "base_uri": "https://localhost:8080/"
        },
        "id": "iPGhHz4oUfca",
        "outputId": "6f2c684f-7b51-48fd-9517-14a13d6d190d"
      },
      "outputs": [],
      "source": [
        "# Cleans the data of any impurities like salts,acids and such.\n",
        "# It then calculates the finger print values of the type pubchem finger prints\n",
        "\n",
        "! cat padel.sh"
      ]
    },
    {
      "cell_type": "code",
      "execution_count": null,
      "metadata": {
        "colab": {
          "base_uri": "https://localhost:8080/"
        },
        "id": "m78eG101VF2Z",
        "outputId": "7daf263e-65c7-4197-a94b-d378aa214566"
      },
      "outputs": [],
      "source": [
        "! bash padel.sh"
      ]
    },
    {
      "cell_type": "code",
      "execution_count": null,
      "metadata": {
        "colab": {
          "base_uri": "https://localhost:8080/"
        },
        "id": "_3Pa6uWaIAdc",
        "outputId": "9a175965-1836-4f9d-e44c-9d00e8f0fdd6"
      },
      "outputs": [],
      "source": [
        "import os\n",
        "print(os.listdir())  # Lists all files in the current directory\n"
      ]
    },
    {
      "cell_type": "code",
      "execution_count": null,
      "metadata": {
        "colab": {
          "base_uri": "https://localhost:8080/",
          "height": 366
        },
        "id": "Y87XU1cSV3Tc",
        "outputId": "e2857db1-b01d-41f6-e368-8015e0d844c0"
      },
      "outputs": [],
      "source": [
        "# Preparing data matrices\n",
        "\n",
        "# This matrix consists of the data descriptors (pubchem fingerprints) for every molecule\n",
        "# Pubchem fingerprints are molecular features.\n",
        "\n",
        "dataset3 = pd.read_csv('descriptors_output.csv')\n",
        "dataset3"
      ]
    },
    {
      "cell_type": "code",
      "execution_count": null,
      "metadata": {
        "id": "e2AmZ_vzW_vn"
      },
      "outputs": [],
      "source": [
        "dataset3.to_csv('final_matrix_ic50_only.csv', index=False)"
      ]
    },
    {
      "cell_type": "code",
      "execution_count": null,
      "metadata": {
        "id": "tbm5UEGEPRKv"
      },
      "outputs": [],
      "source": [
        "dataset3 = dataset3.drop(columns=['Name'])"
      ]
    },
    {
      "cell_type": "code",
      "execution_count": null,
      "metadata": {
        "id": "pZt1WVsHXo4W"
      },
      "outputs": [],
      "source": [
        "# PART 6\n",
        "\n",
        "# Model building\n",
        "# X - pubchem finger prints\n",
        "# Y - pic50 values\n",
        "\n",
        "X = dataset3\n",
        "Y = df_final.pIC50\n",
        "X.shape\n",
        "Y.shape"
      ]
    },
    {
      "cell_type": "code",
      "execution_count": null,
      "metadata": {
        "id": "2KXgFnLlYDvN"
      },
      "outputs": [],
      "source": [
        "# lipinski descriptors majorly talk about the global aspects of a molecule like solubility and h bond related stuff\n",
        "# whereas pubchem fingerprints prev created talk more of the local aspects such as within the molecule prop stuff"
      ]
    },
    {
      "cell_type": "code",
      "execution_count": null,
      "metadata": {
        "id": "v1hSFnCeRGKP"
      },
      "outputs": [],
      "source": [
        "# Remove low variance features\n",
        "# Reduces the number of columns\n",
        "\n",
        "from sklearn.feature_selection import VarianceThreshold\n",
        "from sklearn.model_selection import train_test_split\n",
        "from sklearn.ensemble import RandomForestRegressor\n",
        "from sklearn.tree import DecisionTreeClassifier\n",
        "from sklearn.preprocessing import StandardScaler\n",
        "from sklearn.metrics import accuracy_score\n",
        "import sklearn\n",
        "import math\n",
        "\n",
        "selection = VarianceThreshold(threshold=(.8 * (1 - .8)))\n",
        "X = selection.fit_transform(X)"
      ]
    },
    {
      "cell_type": "code",
      "execution_count": null,
      "metadata": {
        "id": "WEFhRhHzmZjV"
      },
      "outputs": [],
      "source": [
        "X.shape"
      ]
    },
    {
      "cell_type": "code",
      "execution_count": null,
      "metadata": {
        "id": "b6FRY2zrRKex"
      },
      "outputs": [],
      "source": [
        "# Data split 8:2 ratio\n",
        "X_train, X_test, Y_train, Y_test = train_test_split(X, Y, test_size=0.2, random_state = 1)\n",
        "X_train.shape, Y_train.shape"
      ]
    },
    {
      "cell_type": "code",
      "execution_count": null,
      "metadata": {
        "id": "VJ4hzMFdmvvq"
      },
      "outputs": [],
      "source": [
        "X_test.shape, Y_test.shape"
      ]
    },
    {
      "cell_type": "code",
      "execution_count": null,
      "metadata": {
        "id": "8eZhvuRDRtQr"
      },
      "outputs": [],
      "source": [
        "# Regression model using Random Forest\n",
        "import numpy as np\n",
        "model = RandomForestRegressor(n_estimators=100)\n",
        "model.fit(X_train, Y_train)\n",
        "Y_pred = model.predict(X_test)\n",
        "Y_pred"
      ]
    },
    {
      "cell_type": "code",
      "execution_count": null,
      "metadata": {
        "id": "dyvEtlH8R5oF"
      },
      "outputs": [],
      "source": [
        "mse = sklearn.metrics.mean_squared_error(Y_test,Y_pred)\n",
        "rmse = math.sqrt(mse)\n",
        "print('Accuracy for Random Forest',max(0,rmse))"
      ]
    },
    {
      "cell_type": "code",
      "execution_count": null,
      "metadata": {
        "id": "JmzkJ73OR_KQ"
      },
      "outputs": [],
      "source": [
        "# Scatter plot of Experimental vs Predicted pic50 values\n",
        "\n",
        "sns.set(color_codes=True)\n",
        "sns.set_style(\"ticks\")\n",
        "\n",
        "ax = sns.regplot(Y_test, Y_pred, scatter_kws={'alpha':0.4})\n",
        "ax.set_xlabel('Experimental pIC50', fontsize='large', fontweight='bold')\n",
        "ax.set_ylabel('Predicted pIC50', fontsize='large', fontweight='bold')\n",
        "ax.set_xlim(0, 12)\n",
        "ax.set_ylim(0, 12)\n",
        "ax.figure.set_size_inches(5, 5)\n",
        "plt.legend([\"Experimental pIC50\",\"Predicted pIC50\"])\n",
        "plt.show"
      ]
    }
  ],
  "metadata": {
    "colab": {
      "provenance": []
    },
    "kernelspec": {
      "display_name": "Python 3",
      "name": "python3"
    },
    "language_info": {
      "name": "python"
    }
  },
  "nbformat": 4,
  "nbformat_minor": 0
}
